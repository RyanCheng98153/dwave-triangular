{
 "cells": [
  {
   "cell_type": "code",
   "execution_count": 1,
   "metadata": {},
   "outputs": [],
   "source": [
    "# !dwave auth login"
   ]
  },
  {
   "cell_type": "code",
   "execution_count": 1,
   "metadata": {},
   "outputs": [],
   "source": [
    "!dwave auth get\n",
    "# dwave_token = Helper.getAPItoken('.env')[0]\n",
    "# print(dwave_token)"
   ]
  },
  {
   "cell_type": "code",
   "execution_count": null,
   "metadata": {},
   "outputs": [],
   "source": [
    "# !dwave config create --auto-token\n",
    "# !dwave config inspect"
   ]
  },
  {
   "cell_type": "code",
   "execution_count": 6,
   "metadata": {},
   "outputs": [],
   "source": [
    "!dwave solvers  --list --all\n",
    "!dwave solvers --region eu-central-1 --list --all"
   ]
  },
  {
   "cell_type": "markdown",
   "metadata": {},
   "source": [
    "## Exact Solver"
   ]
  },
  {
   "cell_type": "code",
   "execution_count": 1,
   "metadata": {},
   "outputs": [],
   "source": [
    "from main import Run\n",
    "import os\n",
    "def uniquify(path:str)->str:\n",
    "    filename, extension = os.path.splitext(path)\n",
    "    counter = 1\n",
    "    while os.path.exists(path):\n",
    "        originPath = path\n",
    "        path = filename + \"(\" + str(counter) + \")\" + extension\n",
    "        counter += 1\n",
    "    if counter != 1:\n",
    "        print(f\"{originPath} has existed. --> {path} is now created.\")\n",
    "    return path\n"
   ]
  },
  {
   "cell_type": "code",
   "execution_count": 2,
   "metadata": {},
   "outputs": [],
   "source": [
    "from enum import IntEnum\n",
    "class PickSolver(IntEnum):\n",
    "    NO_SOLVER: int = 0\n",
    "    EXACT_SOLVER: int = 1\n",
    "    QPU_SOLVER:int = 2"
   ]
  },
  {
   "cell_type": "code",
   "execution_count": 3,
   "metadata": {},
   "outputs": [],
   "source": [
    "run = Run()\n",
    "def runExact(L: int, JL: float):\n",
    "    exactResult = run.runIsing(L, JL)\n",
    "\n",
    "    print(exactResult)\n",
    "\n",
    "    # print(result)\n",
    "    filename = f'./results/Exact/runIsing_Exactsampler_{L}__JL_{JL}_.txt'\n",
    "    with open(uniquify(filename), 'w') as f:\n",
    "        f.writelines(str(exactResult))\n",
    "    return exactResult"
   ]
  },
  {
   "cell_type": "code",
   "execution_count": 4,
   "metadata": {},
   "outputs": [
    {
     "name": "stdout",
     "output_type": "stream",
     "text": [
      "hi\n"
     ]
    },
    {
     "ename": "TypeError",
     "evalue": "Solver() takes no arguments",
     "output_type": "error",
     "traceback": [
      "\u001b[1;31m---------------------------------------------------------------------------\u001b[0m",
      "\u001b[1;31mTypeError\u001b[0m                                 Traceback (most recent call last)",
      "Cell \u001b[1;32mIn[4], line 5\u001b[0m\n\u001b[0;32m      2\u001b[0m JL \u001b[38;5;241m=\u001b[39m \u001b[38;5;241m1.0\u001b[39m\n\u001b[0;32m      3\u001b[0m taskname \u001b[38;5;241m=\u001b[39m \u001b[38;5;124mf\u001b[39m\u001b[38;5;124m\"\u001b[39m\u001b[38;5;124mtriangular_L_\u001b[39m\u001b[38;5;132;01m{\u001b[39;00mlength\u001b[38;5;132;01m}\u001b[39;00m\u001b[38;5;124m_JL_\u001b[39m\u001b[38;5;132;01m{\u001b[39;00mJL\u001b[38;5;132;01m}\u001b[39;00m\u001b[38;5;124m.txt\u001b[39m\u001b[38;5;124m\"\u001b[39m\n\u001b[1;32m----> 5\u001b[0m exactResult \u001b[38;5;241m=\u001b[39m \u001b[43mrunExact\u001b[49m\u001b[43m(\u001b[49m\u001b[43m \u001b[49m\u001b[43mL\u001b[49m\u001b[38;5;241;43m=\u001b[39;49m\u001b[38;5;241;43m3\u001b[39;49m\u001b[43m,\u001b[49m\u001b[43m \u001b[49m\u001b[43mJL\u001b[49m\u001b[38;5;241;43m=\u001b[39;49m\u001b[38;5;241;43m1.0\u001b[39;49m\u001b[43m)\u001b[49m\n",
      "Cell \u001b[1;32mIn[3], line 3\u001b[0m, in \u001b[0;36mrunExact\u001b[1;34m(L, JL)\u001b[0m\n\u001b[0;32m      2\u001b[0m \u001b[38;5;28;01mdef\u001b[39;00m \u001b[38;5;21mrunExact\u001b[39m(L: \u001b[38;5;28mint\u001b[39m, JL: \u001b[38;5;28mfloat\u001b[39m):\n\u001b[1;32m----> 3\u001b[0m     exactResult \u001b[38;5;241m=\u001b[39m \u001b[43mrun\u001b[49m\u001b[38;5;241;43m.\u001b[39;49m\u001b[43mrunIsing\u001b[49m\u001b[43m(\u001b[49m\u001b[43mL\u001b[49m\u001b[43m,\u001b[49m\u001b[43m \u001b[49m\u001b[43mJL\u001b[49m\u001b[43m)\u001b[49m\n\u001b[0;32m      5\u001b[0m     \u001b[38;5;28mprint\u001b[39m(exactResult)\n\u001b[0;32m      7\u001b[0m     \u001b[38;5;66;03m# print(result)\u001b[39;00m\n",
      "File \u001b[1;32me:\\project\\ElectroPhysics-project\\dwave\\triangular\\main.py:33\u001b[0m, in \u001b[0;36mRun.runIsing\u001b[1;34m(self, L, JL, solverType)\u001b[0m\n\u001b[0;32m     31\u001b[0m \u001b[38;5;28;01mif\u001b[39;00m (solverType \u001b[38;5;241m==\u001b[39m PickSolver\u001b[38;5;241m.\u001b[39mEXACT_SOLVER):\n\u001b[0;32m     32\u001b[0m     \u001b[38;5;28mprint\u001b[39m(\u001b[38;5;124m\"\u001b[39m\u001b[38;5;124mhi\u001b[39m\u001b[38;5;124m\"\u001b[39m)\n\u001b[1;32m---> 33\u001b[0m     solver \u001b[38;5;241m=\u001b[39m \u001b[43mSolver\u001b[49m\u001b[43m(\u001b[49m\u001b[43mL\u001b[49m\u001b[43m,\u001b[49m\u001b[43m \u001b[49m\u001b[43mJL\u001b[49m\u001b[43m \u001b[49m\u001b[43m)\u001b[49m\n\u001b[0;32m     34\u001b[0m     sampleset \u001b[38;5;241m=\u001b[39m solver\u001b[38;5;241m.\u001b[39mdoExactSolver(H, J)\n\u001b[0;32m     36\u001b[0m \u001b[38;5;28;01mif\u001b[39;00m (solverType \u001b[38;5;241m==\u001b[39m PickSolver\u001b[38;5;241m.\u001b[39mQPU_SOLVER):\n",
      "\u001b[1;31mTypeError\u001b[0m: Solver() takes no arguments"
     ]
    }
   ],
   "source": [
    "length = 3\n",
    "JL = 1.0\n",
    "taskname = f\"triangular_L_{length}_JL_{JL}.txt\"\n",
    "\n",
    "exactResult = runExact( L=3, JL=1.0)"
   ]
  },
  {
   "cell_type": "code",
   "execution_count": null,
   "metadata": {},
   "outputs": [
    {
     "ename": "TypeError",
     "evalue": "exceptions must derive from BaseException",
     "output_type": "error",
     "traceback": [
      "\u001b[1;31m---------------------------------------------------------------------------\u001b[0m",
      "\u001b[1;31mTypeError\u001b[0m                                 Traceback (most recent call last)",
      "Cell \u001b[1;32mIn[10], line 1\u001b[0m\n\u001b[1;32m----> 1\u001b[0m \u001b[38;5;28;01mraise\u001b[39;00m \u001b[38;5;124m\"\u001b[39m\u001b[38;5;124mInterrupt Here\u001b[39m\u001b[38;5;124m\"\u001b[39m\n",
      "\u001b[1;31mTypeError\u001b[0m: exceptions must derive from BaseException"
     ]
    }
   ],
   "source": [
    "raise \"Interrupt Here\""
   ]
  },
  {
   "cell_type": "code",
   "execution_count": 1,
   "metadata": {},
   "outputs": [],
   "source": [
    "from enum import IntEnum\n",
    "class PickSolver(IntEnum):\n",
    "    NO_SOLVER: int = 0\n",
    "    EXACT_SOLVER: int = 1\n",
    "    QPU_SOLVER:int = 2"
   ]
  },
  {
   "cell_type": "code",
   "execution_count": 2,
   "metadata": {},
   "outputs": [
    {
     "ename": "ImportError",
     "evalue": "cannot import name 'Helper' from 'src.helper' (e:\\project\\ElectroPhysics-project\\dwave\\triangular\\src\\helper.py)",
     "output_type": "error",
     "traceback": [
      "\u001b[1;31m---------------------------------------------------------------------------\u001b[0m",
      "\u001b[1;31mImportError\u001b[0m                               Traceback (most recent call last)",
      "Cell \u001b[1;32mIn[2], line 1\u001b[0m\n\u001b[1;32m----> 1\u001b[0m \u001b[38;5;28;01mfrom\u001b[39;00m \u001b[38;5;21;01mmain\u001b[39;00m \u001b[38;5;28;01mimport\u001b[39;00m Run\n\u001b[0;32m      2\u001b[0m \u001b[38;5;28;01mimport\u001b[39;00m \u001b[38;5;21;01mos\u001b[39;00m\n\u001b[0;32m      3\u001b[0m \u001b[38;5;28;01mdef\u001b[39;00m \u001b[38;5;21muniquify\u001b[39m(path:\u001b[38;5;28mstr\u001b[39m)\u001b[38;5;241m-\u001b[39m\u001b[38;5;241m>\u001b[39m\u001b[38;5;28mstr\u001b[39m:\n",
      "File \u001b[1;32me:\\project\\ElectroPhysics-project\\dwave\\triangular\\main.py:1\u001b[0m\n\u001b[1;32m----> 1\u001b[0m \u001b[38;5;28;01mfrom\u001b[39;00m \u001b[38;5;21;01msrc\u001b[39;00m\u001b[38;5;21;01m.\u001b[39;00m\u001b[38;5;21;01mhelper\u001b[39;00m \u001b[38;5;28;01mimport\u001b[39;00m Helper\n\u001b[0;32m      2\u001b[0m \u001b[38;5;28;01mfrom\u001b[39;00m \u001b[38;5;21;01msrc\u001b[39;00m\u001b[38;5;21;01m.\u001b[39;00m\u001b[38;5;21;01msolvers\u001b[39;00m \u001b[38;5;28;01mimport\u001b[39;00m Solver\n\u001b[0;32m      3\u001b[0m \u001b[38;5;66;03m# from src.graph import *\u001b[39;00m\n",
      "\u001b[1;31mImportError\u001b[0m: cannot import name 'Helper' from 'src.helper' (e:\\project\\ElectroPhysics-project\\dwave\\triangular\\src\\helper.py)"
     ]
    }
   ],
   "source": [
    "from main import Run\n",
    "import os\n",
    "def uniquify(path:str)->str:\n",
    "    filename, extension = os.path.splitext(path)\n",
    "    counter = 1\n",
    "    while os.path.exists(path):\n",
    "        originPath = path\n",
    "        path = filename + \"(\" + str(counter) + \")\" + extension\n",
    "        counter += 1\n",
    "    if counter != 1:\n",
    "        print(f\"{originPath} has existed. --> {path} is now created.\")\n",
    "    return path\n"
   ]
  },
  {
   "cell_type": "code",
   "execution_count": 3,
   "metadata": {},
   "outputs": [],
   "source": [
    "run = Run()\n",
    "def runQPU(L: int, H: int, JL: float, JH: float):\n",
    "    qpuResult = run.runIsing(L, H, JL, JH, PickSolver.QPU_SOLVER)\n",
    "\n",
    "    print(qpuResult)\n",
    "\n",
    "    # print(result)\n",
    "    filename = f'./results/QPU/runIsing_QPUsampler_{L}_{L}_{H}_JL_{JL}_JH_{JH}.txt'\n",
    "    with open(uniquify(filename), 'w') as f:\n",
    "        f.writelines(str(qpuResult))\n",
    "    return qpuResult"
   ]
  },
  {
   "cell_type": "code",
   "execution_count": 5,
   "metadata": {},
   "outputs": [
    {
     "name": "stdout",
     "output_type": "stream",
     "text": [
      "   0  1  2  3  4  5  6  7  8 energy num_oc. chain_.\n",
      "0 -1 -1 +1 -1 +1 -1 +1 -1 +1   -9.0       1     0.0\n",
      "1 +1 +1 -1 +1 -1 +1 -1 +1 -1   -9.0       1     0.0\n",
      "2 +1 +1 -1 +1 -1 +1 -1 +1 +1   -9.0       1     0.0\n",
      "['SPIN', 3 rows, 3 samples, 9 variables]\n"
     ]
    }
   ],
   "source": [
    "check = input(\"Are you sure to use QPU solvers (Y/N):\")\n",
    "\n",
    "if ( check == \"Y\" or check == \"y\" ):\n",
    "   qpuResult = runQPU(L=3, H=3, JL=1.0, JH=1.0)"
   ]
  },
  {
   "cell_type": "code",
   "execution_count": 7,
   "metadata": {},
   "outputs": [
    {
     "name": "stdout",
     "output_type": "stream",
     "text": [
      "   0  1  2  3  4  5  6  7  8  9 10 11 12 13 14 15 16 ... 143 energy num_oc. ...\n",
      "0 +1 -1 +1 +1 -1 +1 +1 -1 +1 -1 -1 +1 -1 +1 +1 -1 +1 ...  -1 -144.0       1 ...\n",
      "1 +1 -1 -1 +1 -1 -1 +1 +1 -1 -1 +1 -1 -1 -1 +1 +1 -1 ...  -1 -144.0       1 ...\n",
      "2 +1 -1 +1 +1 -1 -1 +1 -1 +1 +1 -1 -1 -1 -1 +1 -1 -1 ...  -1 -144.0       1 ...\n",
      "['SPIN', 3 rows, 3 samples, 144 variables]\n"
     ]
    }
   ],
   "source": [
    "if False:\n",
    "    qpuResult = runQPU(L=12, H=1, JL=1.0, JH=1.0)"
   ]
  },
  {
   "cell_type": "code",
   "execution_count": null,
   "metadata": {},
   "outputs": [
    {
     "ename": "NameError",
     "evalue": "name 'qpuResult' is not defined",
     "output_type": "error",
     "traceback": [
      "\u001b[1;31m---------------------------------------------------------------------------\u001b[0m",
      "\u001b[1;31mNameError\u001b[0m                                 Traceback (most recent call last)",
      "Cell \u001b[1;32mIn[20], line 1\u001b[0m\n\u001b[1;32m----> 1\u001b[0m \u001b[38;5;28mprint\u001b[39m(\u001b[43mqpuResult\u001b[49m\u001b[38;5;241m.\u001b[39mdata)\n",
      "\u001b[1;31mNameError\u001b[0m: name 'qpuResult' is not defined"
     ]
    }
   ],
   "source": [
    "print(qpuResult.data)"
   ]
  }
 ],
 "metadata": {
  "kernelspec": {
   "display_name": "dwave-venv",
   "language": "python",
   "name": "python3"
  },
  "language_info": {
   "codemirror_mode": {
    "name": "ipython",
    "version": 3
   },
   "file_extension": ".py",
   "mimetype": "text/x-python",
   "name": "python",
   "nbconvert_exporter": "python",
   "pygments_lexer": "ipython3",
   "version": "3.10.11"
  }
 },
 "nbformat": 4,
 "nbformat_minor": 2
}
