{
 "cells": [
  {
   "cell_type": "code",
   "execution_count": 1,
   "metadata": {},
   "outputs": [],
   "source": [
    "from main import Run\n",
    "from src.helper import Helper"
   ]
  },
  {
   "cell_type": "code",
   "execution_count": 2,
   "metadata": {},
   "outputs": [],
   "source": [
    "# !dwave auth login"
   ]
  },
  {
   "cell_type": "code",
   "execution_count": 3,
   "metadata": {},
   "outputs": [
    {
     "name": "stdout",
     "output_type": "stream",
     "text": [
      "Access token: d5Y6sRDUn3VFCgqFAjMi6mjAl4QyFg\n",
      "Expires at: 2024-08-19T04:46:19Z (timestamp=1724042779) (valid)\n",
      "d5Y6sRDUn3VFCgqFAjMi6mjAl4QyFg\n"
     ]
    }
   ],
   "source": [
    "!dwave auth get\n",
    "dwave_token = Helper.getAPItoken('.env')[0]\n",
    "print(dwave_token)"
   ]
  },
  {
   "cell_type": "code",
   "execution_count": 4,
   "metadata": {},
   "outputs": [
    {
     "name": "stdout",
     "output_type": "stream",
     "text": [
      "Using endpoint: https://cloud.dwavesys.com/sapi/\n",
      "Using region: na-west-1\n",
      "Using solver: Advantage_system4.1\n",
      "Submitted problem ID: a4198946-cfef-4ebc-ad5e-046570eb6a1a\n",
      "\n",
      "Wall clock time:\n",
      " * Solver definition fetch: 2230.027 ms\n",
      " * Problem submit and results fetch: 2785.356 ms\n",
      " * Total: 5015.382 ms\n",
      "\n",
      "QPU timing:\n",
      " * post_processing_overhead_time = 1.0 us\n",
      " * qpu_access_overhead_time = 0.0 us\n",
      " * qpu_access_time = 15855.34 us\n",
      " * qpu_anneal_time_per_sample = 20.0 us\n",
      " * qpu_delay_time_per_sample = 20.58 us\n",
      " * qpu_programming_time = 15778.36 us\n",
      " * qpu_readout_time_per_sample = 36.4 us\n",
      " * qpu_sampling_time = 76.98 us\n",
      " * total_post_processing_time = 1.0 us\n"
     ]
    }
   ],
   "source": [
    "# !dwave config create --auto-token\n",
    "# !dwave config inspect\n",
    "!dwave ping --client qpu"
   ]
  },
  {
   "cell_type": "code",
   "execution_count": 5,
   "metadata": {},
   "outputs": [
    {
     "name": "stdout",
     "output_type": "stream",
     "text": [
      "hybrid_binary_quadratic_model_version2p\n",
      "hybrid_discrete_quadratic_model_version1p\n",
      "Advantage_system4.1\n",
      "hybrid_constrained_quadratic_model_version1p\n",
      "Advantage_system6.4\n",
      "Advantage2_prototype2.3\n",
      "Advantage_system5.4\n"
     ]
    }
   ],
   "source": [
    "!dwave solvers  --list --all\n",
    "!dwave solvers --region eu-central-1 --list --all"
   ]
  },
  {
   "cell_type": "code",
   "execution_count": 6,
   "metadata": {},
   "outputs": [],
   "source": [
    "L:int = 3 \n",
    "H:int = 1\n",
    "JL:float = 1.0\n",
    "JH:float = 1.0 "
   ]
  },
  {
   "cell_type": "code",
   "execution_count": 7,
   "metadata": {},
   "outputs": [],
   "source": [
    "import os\n",
    "def uniquify(path:str)->str:\n",
    "    filename, extension = os.path.splitext(path)\n",
    "    counter = 1\n",
    "    while os.path.exists(path):\n",
    "        originPath = path\n",
    "        path = filename + \"(\" + str(counter) + \")\" + extension\n",
    "        counter += 1\n",
    "    if counter != 1:\n",
    "        print(f\"{originPath} has existed. --> {path} is now created.\")\n",
    "    return path\n"
   ]
  },
  {
   "cell_type": "code",
   "execution_count": 8,
   "metadata": {},
   "outputs": [
    {
     "name": "stdout",
     "output_type": "stream",
     "text": [
      "./results/runIsing_Exactsampler_3_3_1_JL_1.0_JH_1.0 has existed. --> ./results/runIsing_Exactsampler_3_3_1_JL_1.0_JH_1(1).0 is now created.\n"
     ]
    }
   ],
   "source": [
    "run = Run()\n",
    "exactResult = run.runIsing(L, H, JL, JH, 0, _token = dwave_token)\n",
    "\n",
    "# print(result)\n",
    "filename = f'./results/runIsing_Exactsampler_{L}_{L}_{H}_JL_{JL}_JH_{JH}'\n",
    "with open(uniquify(filename), 'w') as f:\n",
    "    f.writelines(str(exactResult))"
   ]
  },
  {
   "cell_type": "code",
   "execution_count": 9,
   "metadata": {},
   "outputs": [],
   "source": [
    "check = input(\"Are you sure to use QPU solvers (Y/N):\")\n",
    "if ( check == \"Y\" or check == \"y\"):\n",
    "    qpuResult = run.runIsing(L, H, JL, JH, 1, _token=dwave_token)\n",
    "\n",
    "    # print(result)\n",
    "    filename = f'./results/runIsing_QPUsampler_{L}_{L}_{H}_JL_{JL}_JH_{JH}'\n",
    "    with open(uniquify(filename), 'w') as f:\n",
    "        f.writelines(str(qpuResult))"
   ]
  },
  {
   "cell_type": "code",
   "execution_count": null,
   "metadata": {},
   "outputs": [],
   "source": []
  }
 ],
 "metadata": {
  "kernelspec": {
   "display_name": "dwave-venv",
   "language": "python",
   "name": "python3"
  },
  "language_info": {
   "codemirror_mode": {
    "name": "ipython",
    "version": 3
   },
   "file_extension": ".py",
   "mimetype": "text/x-python",
   "name": "python",
   "nbconvert_exporter": "python",
   "pygments_lexer": "ipython3",
   "version": "3.10.11"
  }
 },
 "nbformat": 4,
 "nbformat_minor": 2
}
