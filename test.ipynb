{
 "cells": [
  {
   "cell_type": "code",
   "execution_count": 1,
   "metadata": {},
   "outputs": [],
   "source": [
    "from main import Run\n",
    "from src.helper import Helper"
   ]
  },
  {
   "cell_type": "code",
   "execution_count": 2,
   "metadata": {},
   "outputs": [],
   "source": [
    "# !dwave auth login"
   ]
  },
  {
   "cell_type": "code",
   "execution_count": 3,
   "metadata": {},
   "outputs": [
    {
     "name": "stdout",
     "output_type": "stream",
     "text": [
      "Access token: VgoF83pMVWliFsgzcYp9zWOmR7bYnm\n",
      "Expires at: 2024-08-18T06:23:17Z (timestamp=1723962197) (expired)\n",
      "\n",
      "To refresh the token, please run \"dwave auth refresh\".\n"
     ]
    }
   ],
   "source": [
    "!dwave auth get"
   ]
  },
  {
   "cell_type": "code",
   "execution_count": 4,
   "metadata": {},
   "outputs": [
    {
     "name": "stdout",
     "output_type": "stream",
     "text": [
      "VgoF83pMVWliFsgzcYp9zWOmR7bYnm\n"
     ]
    }
   ],
   "source": [
    "dwave_token = Helper.getAPItoken('.env')[0]\n",
    "print(dwave_token)"
   ]
  },
  {
   "cell_type": "code",
   "execution_count": 5,
   "metadata": {},
   "outputs": [],
   "source": [
    "L:int = 3 \n",
    "H:int = 1\n",
    "JL:float = 1.0\n",
    "JH:float = 1.0 "
   ]
  },
  {
   "cell_type": "code",
   "execution_count": 10,
   "metadata": {},
   "outputs": [],
   "source": [
    "import os\n",
    "def uniquify(path:str)->str:\n",
    "    filename, extension = os.path.splitext(path)\n",
    "    counter = 1\n",
    "    while os.path.exists(path):\n",
    "        originPath = path\n",
    "        path = filename + \"(\" + str(counter) + \")\" + extension\n",
    "        counter += 1\n",
    "    if counter != 1:\n",
    "        print(f\"{originPath} has existed. --> {path} is now created.\")\n",
    "    return path\n"
   ]
  },
  {
   "cell_type": "code",
   "execution_count": 11,
   "metadata": {},
   "outputs": [],
   "source": [
    "run = Run()\n",
    "exactResult = run.runIsing(L, H, JL, JH, 0, _token = dwave_token)\n",
    "\n",
    "# print(result)\n",
    "filename = f'./results/runIsing_Exactsampler_{L}_{L}_{H}_JL_{JL}_JH_{JH}'\n",
    "with open(uniquify(filename), 'w') as f:\n",
    "    f.writelines(str(exactResult))"
   ]
  },
  {
   "cell_type": "code",
   "execution_count": null,
   "metadata": {},
   "outputs": [
    {
     "ename": "ValueError",
     "evalue": "API token not defined",
     "output_type": "error",
     "traceback": [
      "\u001b[1;31m---------------------------------------------------------------------------\u001b[0m",
      "\u001b[1;31mValueError\u001b[0m                                Traceback (most recent call last)",
      "Cell \u001b[1;32mIn[7], line 1\u001b[0m\n\u001b[1;32m----> 1\u001b[0m \u001b[43mrun\u001b[49m\u001b[38;5;241;43m.\u001b[39;49m\u001b[43mrunIsing\u001b[49m\u001b[43m(\u001b[49m\u001b[43mL\u001b[49m\u001b[43m,\u001b[49m\u001b[43m \u001b[49m\u001b[43mH\u001b[49m\u001b[43m,\u001b[49m\u001b[43m \u001b[49m\u001b[43mJL\u001b[49m\u001b[43m,\u001b[49m\u001b[43m \u001b[49m\u001b[43mJH\u001b[49m\u001b[43m,\u001b[49m\u001b[43m \u001b[49m\u001b[38;5;241;43m1\u001b[39;49m\u001b[43m,\u001b[49m\u001b[43m \u001b[49m\u001b[43m_token\u001b[49m\u001b[38;5;241;43m=\u001b[39;49m\u001b[43mdwave_token\u001b[49m\u001b[43m)\u001b[49m\n",
      "File \u001b[1;32me:\\project\\EP-project\\dwave\\triangular\\main.py:26\u001b[0m, in \u001b[0;36mRun.runIsing\u001b[1;34m(self, length, height, JL, JH, solverType, _token)\u001b[0m\n\u001b[0;32m     24\u001b[0m     \u001b[38;5;28;01mreturn\u001b[39;00m sampleset\n\u001b[0;32m     25\u001b[0m \u001b[38;5;28;01mif\u001b[39;00m (solverType \u001b[38;5;241m==\u001b[39m \u001b[38;5;241m1\u001b[39m):\n\u001b[1;32m---> 26\u001b[0m     sampleset \u001b[38;5;241m=\u001b[39m \u001b[38;5;28;43mself\u001b[39;49m\u001b[38;5;241;43m.\u001b[39;49m\u001b[43m__runQPUSolver\u001b[49m\u001b[43m(\u001b[49m\u001b[43mH\u001b[49m\u001b[43m,\u001b[49m\u001b[43m \u001b[49m\u001b[43mJ\u001b[49m\u001b[43m,\u001b[49m\u001b[43m \u001b[49m\u001b[43m_token\u001b[49m\u001b[43m \u001b[49m\u001b[38;5;241;43m=\u001b[39;49m\u001b[43m \u001b[49m\u001b[43m_token\u001b[49m\u001b[43m)\u001b[49m\n\u001b[0;32m     27\u001b[0m     \u001b[38;5;28;01mreturn\u001b[39;00m sampleset\n\u001b[0;32m     28\u001b[0m \u001b[38;5;28;01melse\u001b[39;00m:\n",
      "File \u001b[1;32me:\\project\\EP-project\\dwave\\triangular\\main.py:48\u001b[0m, in \u001b[0;36mRun.__runQPUSolver\u001b[1;34m(self, _H, _J, _token)\u001b[0m\n\u001b[0;32m     46\u001b[0m \u001b[38;5;28;01mdef\u001b[39;00m \u001b[38;5;21m__runQPUSolver\u001b[39m(\u001b[38;5;28mself\u001b[39m, _H, _J, _token):\n\u001b[0;32m     47\u001b[0m     solver \u001b[38;5;241m=\u001b[39m Solver(\u001b[38;5;28mself\u001b[39m\u001b[38;5;241m.\u001b[39mLength, \u001b[38;5;28mself\u001b[39m\u001b[38;5;241m.\u001b[39mHeight)\n\u001b[1;32m---> 48\u001b[0m     sampleset \u001b[38;5;241m=\u001b[39m \u001b[43msolver\u001b[49m\u001b[38;5;241;43m.\u001b[39;49m\u001b[43mdoQPUSolver\u001b[49m\u001b[43m(\u001b[49m\u001b[43m_H\u001b[49m\u001b[43m,\u001b[49m\u001b[43m \u001b[49m\u001b[43m_J\u001b[49m\u001b[43m,\u001b[49m\u001b[43m \u001b[49m\u001b[43m_token\u001b[49m\u001b[38;5;241;43m=\u001b[39;49m\u001b[43m_token\u001b[49m\u001b[43m)\u001b[49m\n\u001b[0;32m     49\u001b[0m     \u001b[38;5;66;03m# print(\"=== Result ===\")\u001b[39;00m\n\u001b[0;32m     50\u001b[0m     \u001b[38;5;66;03m# print(sampleset)\u001b[39;00m\n\u001b[0;32m     51\u001b[0m     \u001b[38;5;66;03m# solver.printIsing(_H, _J)\u001b[39;00m\n\u001b[0;32m     52\u001b[0m     \u001b[38;5;28;01mreturn\u001b[39;00m sampleset\n",
      "File \u001b[1;32me:\\project\\EP-project\\dwave\\triangular\\src\\solvers.py:66\u001b[0m, in \u001b[0;36mSolver.doQPUSolver\u001b[1;34m(self, _H, _J, _token)\u001b[0m\n\u001b[0;32m     63\u001b[0m \u001b[38;5;28;01mdef\u001b[39;00m \u001b[38;5;21mdoQPUSolver\u001b[39m(\u001b[38;5;28mself\u001b[39m, _H, _J, _token:\u001b[38;5;28mstr\u001b[39m):\n\u001b[0;32m     64\u001b[0m     \u001b[38;5;66;03m# print(f\"H: {_H}\")\u001b[39;00m\n\u001b[0;32m     65\u001b[0m     \u001b[38;5;66;03m# print(f\"J: {_J}\")\u001b[39;00m\n\u001b[1;32m---> 66\u001b[0m     sampler \u001b[38;5;241m=\u001b[39m EmbeddingComposite(\u001b[43mDWaveSampler\u001b[49m\u001b[43m(\u001b[49m\u001b[43m)\u001b[49m)\n\u001b[0;32m     68\u001b[0m     sampleset \u001b[38;5;241m=\u001b[39m sampler\u001b[38;5;241m.\u001b[39msample_ising(_H, _J,\n\u001b[0;32m     69\u001b[0m                              label\u001b[38;5;241m=\u001b[39m\u001b[38;5;124m\"\u001b[39m\u001b[38;5;124mTest Ising Problem 1\u001b[39m\u001b[38;5;124m\"\u001b[39m)\n\u001b[0;32m     70\u001b[0m     \u001b[38;5;28;01mreturn\u001b[39;00m sampleset\n",
      "File \u001b[1;32me:\\project\\EP-project\\dwave\\dwave-venv\\lib\\site-packages\\dwave\\system\\samplers\\dwave_sampler.py:183\u001b[0m, in \u001b[0;36mDWaveSampler.__init__\u001b[1;34m(self, failover, retry_interval, **config)\u001b[0m\n\u001b[0;32m    180\u001b[0m \u001b[38;5;28mself\u001b[39m\u001b[38;5;241m.\u001b[39mretry_interval \u001b[38;5;241m=\u001b[39m retry_interval\n\u001b[0;32m    181\u001b[0m \u001b[38;5;28mself\u001b[39m\u001b[38;5;241m.\u001b[39m_solver_penalty \u001b[38;5;241m=\u001b[39m defaultdict(\u001b[38;5;28mint\u001b[39m)\n\u001b[1;32m--> 183\u001b[0m \u001b[38;5;28mself\u001b[39m\u001b[38;5;241m.\u001b[39mclient \u001b[38;5;241m=\u001b[39m Client\u001b[38;5;241m.\u001b[39mfrom_config(\u001b[38;5;241m*\u001b[39m\u001b[38;5;241m*\u001b[39mconfig)\n\u001b[0;32m    184\u001b[0m \u001b[38;5;28mself\u001b[39m\u001b[38;5;241m.\u001b[39msolver \u001b[38;5;241m=\u001b[39m \u001b[38;5;28mself\u001b[39m\u001b[38;5;241m.\u001b[39m_get_solver(penalty\u001b[38;5;241m=\u001b[39m\u001b[38;5;28mself\u001b[39m\u001b[38;5;241m.\u001b[39m_solver_penalty)\n",
      "File \u001b[1;32me:\\project\\EP-project\\dwave\\dwave-venv\\lib\\site-packages\\dwave\\cloud\\client\\base.py:430\u001b[0m, in \u001b[0;36mClient.from_config\u001b[1;34m(cls, config_file, profile, client, **kwargs)\u001b[0m\n\u001b[0;32m    427\u001b[0m _client \u001b[38;5;241m=\u001b[39m config\u001b[38;5;241m.\u001b[39mpop(\u001b[38;5;124m'\u001b[39m\u001b[38;5;124mclient\u001b[39m\u001b[38;5;124m'\u001b[39m, \u001b[38;5;28;01mNone\u001b[39;00m) \u001b[38;5;129;01mor\u001b[39;00m \u001b[38;5;124m'\u001b[39m\u001b[38;5;124mbase\u001b[39m\u001b[38;5;124m'\u001b[39m\n\u001b[0;32m    429\u001b[0m logger\u001b[38;5;241m.\u001b[39mdebug(\u001b[38;5;124m\"\u001b[39m\u001b[38;5;124mCreating \u001b[39m\u001b[38;5;132;01m%s\u001b[39;00m\u001b[38;5;124m.Client() with: \u001b[39m\u001b[38;5;132;01m%r\u001b[39;00m\u001b[38;5;124m\"\u001b[39m, _client, config)\n\u001b[1;32m--> 430\u001b[0m \u001b[38;5;28;01mreturn\u001b[39;00m _clients[_client](\u001b[38;5;241m*\u001b[39m\u001b[38;5;241m*\u001b[39mconfig)\n",
      "File \u001b[1;32me:\\project\\EP-project\\dwave\\dwave-venv\\lib\\site-packages\\dwave\\cloud\\events.py:105\u001b[0m, in \u001b[0;36mdispatches_events.__call__.<locals>.wrapped\u001b[1;34m(*pargs, **kwargs)\u001b[0m\n\u001b[0;32m    103\u001b[0m dispatch_event(\u001b[38;5;28mself\u001b[39m\u001b[38;5;241m.\u001b[39mbefore_eventname, obj\u001b[38;5;241m=\u001b[39mobj, args\u001b[38;5;241m=\u001b[39margs)\n\u001b[0;32m    104\u001b[0m \u001b[38;5;28;01mtry\u001b[39;00m:\n\u001b[1;32m--> 105\u001b[0m     rval \u001b[38;5;241m=\u001b[39m fn(\u001b[38;5;241m*\u001b[39mpargs, \u001b[38;5;241m*\u001b[39m\u001b[38;5;241m*\u001b[39mkwargs)\n\u001b[0;32m    106\u001b[0m \u001b[38;5;28;01mexcept\u001b[39;00m \u001b[38;5;167;01mException\u001b[39;00m \u001b[38;5;28;01mas\u001b[39;00m exc:\n\u001b[0;32m    107\u001b[0m     dispatch_event(\u001b[38;5;28mself\u001b[39m\u001b[38;5;241m.\u001b[39mafter_eventname, obj\u001b[38;5;241m=\u001b[39mobj, args\u001b[38;5;241m=\u001b[39margs, exception\u001b[38;5;241m=\u001b[39mexc)\n",
      "File \u001b[1;32me:\\project\\EP-project\\dwave\\dwave-venv\\lib\\site-packages\\dwave\\cloud\\client\\base.py:488\u001b[0m, in \u001b[0;36mClient.__init__\u001b[1;34m(self, *args, **kwargs)\u001b[0m\n\u001b[0;32m    485\u001b[0m     \u001b[38;5;28;01mraise\u001b[39;00m \u001b[38;5;167;01mValueError\u001b[39;00m(\u001b[38;5;124m\"\u001b[39m\u001b[38;5;124mAPI endpoint not defined\u001b[39m\u001b[38;5;124m\"\u001b[39m)\n\u001b[0;32m    487\u001b[0m \u001b[38;5;28;01mif\u001b[39;00m \u001b[38;5;129;01mnot\u001b[39;00m \u001b[38;5;28mself\u001b[39m\u001b[38;5;241m.\u001b[39mconfig\u001b[38;5;241m.\u001b[39mtoken:\n\u001b[1;32m--> 488\u001b[0m     \u001b[38;5;28;01mraise\u001b[39;00m \u001b[38;5;167;01mValueError\u001b[39;00m(\u001b[38;5;124m\"\u001b[39m\u001b[38;5;124mAPI token not defined\u001b[39m\u001b[38;5;124m\"\u001b[39m)\n\u001b[0;32m    490\u001b[0m \u001b[38;5;66;03m# Create session for main thread only\u001b[39;00m\n\u001b[0;32m    491\u001b[0m \u001b[38;5;28mself\u001b[39m\u001b[38;5;241m.\u001b[39msession \u001b[38;5;241m=\u001b[39m \u001b[38;5;28mself\u001b[39m\u001b[38;5;241m.\u001b[39mcreate_session()\n",
      "\u001b[1;31mValueError\u001b[0m: API token not defined"
     ]
    }
   ],
   "source": [
    "qpuResult = run.runIsing(L, H, JL, JH, 1, _token=dwave_token)\n",
    "\n",
    "# print(result)\n",
    "filename = f'./results/runIsing_QPUsampler_{L}_{L}_{H}_JL_{JL}_JH_{JH}'\n",
    "with open(uniquify(filename), 'w') as f:\n",
    "    f.writelines(str(qpuResult))"
   ]
  },
  {
   "cell_type": "code",
   "execution_count": null,
   "metadata": {},
   "outputs": [],
   "source": []
  }
 ],
 "metadata": {
  "kernelspec": {
   "display_name": "dwave-venv",
   "language": "python",
   "name": "python3"
  },
  "language_info": {
   "codemirror_mode": {
    "name": "ipython",
    "version": 3
   },
   "file_extension": ".py",
   "mimetype": "text/x-python",
   "name": "python",
   "nbconvert_exporter": "python",
   "pygments_lexer": "ipython3",
   "version": "3.10.11"
  }
 },
 "nbformat": 4,
 "nbformat_minor": 2
}
