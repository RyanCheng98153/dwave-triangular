{
 "cells": [
  {
   "cell_type": "code",
   "execution_count": 9,
   "metadata": {},
   "outputs": [],
   "source": [
    "from src.solvers import Solver\n",
    "\n",
    "length = 3\n",
    "height = 3\n",
    "JL = 1.0\n",
    "JH = 1.0\n",
    "\n",
    "solver = Solver(length, height, JL, JH)\n",
    "H, J = Solver.fullyConnect(length, height , JL, JH)"
   ]
  },
  {
   "cell_type": "code",
   "execution_count": 10,
   "metadata": {},
   "outputs": [
    {
     "name": "stdout",
     "output_type": "stream",
     "text": [
      "{}\n"
     ]
    }
   ],
   "source": [
    "print(H)"
   ]
  },
  {
   "cell_type": "code",
   "execution_count": 11,
   "metadata": {},
   "outputs": [
    {
     "name": "stdout",
     "output_type": "stream",
     "text": [
      "{(0, 1): 1.0, (0, 3): 1.0, (0, 4): 1.0, (1, 2): 1.0, (1, 4): 1.0, (1, 5): 1.0, (2, 0): 1.0, (2, 5): 1.0, (2, 3): 1.0, (3, 4): 1.0, (3, 6): 1.0, (3, 7): 1.0, (4, 5): 1.0, (4, 7): 1.0, (4, 8): 1.0, (5, 3): 1.0, (5, 8): 1.0, (5, 6): 1.0, (6, 7): 1.0, (6, 0): 1.0, (6, 1): 1.0, (7, 8): 1.0, (7, 1): 1.0, (7, 2): 1.0, (8, 6): 1.0, (8, 2): 1.0, (8, 0): 1.0}\n"
     ]
    }
   ],
   "source": [
    "print(J)"
   ]
  },
  {
   "cell_type": "code",
   "execution_count": 12,
   "metadata": {},
   "outputs": [
    {
     "name": "stdout",
     "output_type": "stream",
     "text": [
      "\n",
      " == Jconnected == \n",
      "[0] -> [1, 3, 4]: [1.0, 1.0, 1.0]\n",
      "[1] -> [2, 4, 5]: [1.0, 1.0, 1.0]\n",
      "[2] -> [0, 5, 3]: [1.0, 1.0, 1.0]\n",
      "[3] -> [4, 6, 7]: [1.0, 1.0, 1.0]\n",
      "[4] -> [5, 7, 8]: [1.0, 1.0, 1.0]\n",
      "[5] -> [3, 8, 6]: [1.0, 1.0, 1.0]\n",
      "[6] -> [7, 0, 1]: [1.0, 1.0, 1.0]\n",
      "[7] -> [8, 1, 2]: [1.0, 1.0, 1.0]\n",
      "[8] -> [6, 2, 0]: [1.0, 1.0, 1.0]\n"
     ]
    }
   ],
   "source": [
    "solver.printIsing(H, J)"
   ]
  },
  {
   "cell_type": "code",
   "execution_count": null,
   "metadata": {},
   "outputs": [],
   "source": []
  }
 ],
 "metadata": {
  "kernelspec": {
   "display_name": "dwave-venv",
   "language": "python",
   "name": "python3"
  },
  "language_info": {
   "codemirror_mode": {
    "name": "ipython",
    "version": 3
   },
   "file_extension": ".py",
   "mimetype": "text/x-python",
   "name": "python",
   "nbconvert_exporter": "python",
   "pygments_lexer": "ipython3",
   "version": "3.10.11"
  }
 },
 "nbformat": 4,
 "nbformat_minor": 2
}
