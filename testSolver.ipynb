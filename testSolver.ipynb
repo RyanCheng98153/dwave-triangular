{
 "cells": [
  {
   "cell_type": "code",
   "execution_count": 6,
   "metadata": {},
   "outputs": [
    {
     "ename": "TypeError",
     "evalue": "Solver.fullyConnect() missing 2 required positional arguments: '_H' and 'J_layer'",
     "output_type": "error",
     "traceback": [
      "\u001b[1;31m---------------------------------------------------------------------------\u001b[0m",
      "\u001b[1;31mTypeError\u001b[0m                                 Traceback (most recent call last)",
      "Cell \u001b[1;32mIn[6], line 9\u001b[0m\n\u001b[0;32m      6\u001b[0m JH \u001b[38;5;241m=\u001b[39m \u001b[38;5;241m1.0\u001b[39m\n\u001b[0;32m      8\u001b[0m solver \u001b[38;5;241m=\u001b[39m Solver(length, height , JL, JH)\n\u001b[1;32m----> 9\u001b[0m H, J \u001b[38;5;241m=\u001b[39m \u001b[43msolver\u001b[49m\u001b[38;5;241;43m.\u001b[39;49m\u001b[43mfullyConnect\u001b[49m\u001b[43m(\u001b[49m\u001b[43m)\u001b[49m\n",
      "\u001b[1;31mTypeError\u001b[0m: Solver.fullyConnect() missing 2 required positional arguments: '_H' and 'J_layer'"
     ]
    }
   ],
   "source": [
    "from src.solvers import Solver\n",
    "\n",
    "length = 3\n",
    "height = 3\n",
    "JL = 1.0\n",
    "JH = 1.0\n",
    "\n",
    "solver = Solver(length, height, JL, JH)\n",
    "H, J = Solver.fullyConnect(length, height , JL, JH)"
   ]
  },
  {
   "cell_type": "code",
   "execution_count": 2,
   "metadata": {},
   "outputs": [
    {
     "name": "stdout",
     "output_type": "stream",
     "text": [
      "{}\n"
     ]
    }
   ],
   "source": [
    "print(H)"
   ]
  },
  {
   "cell_type": "code",
   "execution_count": 3,
   "metadata": {},
   "outputs": [
    {
     "name": "stdout",
     "output_type": "stream",
     "text": [
      "{(0, 1): 1.0, (0, 3): 1.0, (0, 4): 1.0, (1, 2): 1.0, (1, 4): 1.0, (1, 5): 1.0, (2, 0): 1.0, (2, 5): 1.0, (2, 3): 1.0, (3, 4): 1.0, (3, 6): 1.0, (3, 7): 1.0, (4, 5): 1.0, (4, 7): 1.0, (4, 8): 1.0, (5, 3): 1.0, (5, 8): 1.0, (5, 6): 1.0, (6, 7): 1.0, (6, 0): 1.0, (6, 1): 1.0, (7, 8): 1.0, (7, 1): 1.0, (7, 2): 1.0, (8, 6): 1.0, (8, 2): 1.0, (8, 0): 1.0}\n"
     ]
    }
   ],
   "source": [
    "print(J)"
   ]
  },
  {
   "cell_type": "code",
   "execution_count": 7,
   "metadata": {},
   "outputs": [
    {
     "ename": "TypeError",
     "evalue": "Solver.printIsing() missing 2 required positional arguments: '_H' and '_J'",
     "output_type": "error",
     "traceback": [
      "\u001b[1;31m---------------------------------------------------------------------------\u001b[0m",
      "\u001b[1;31mTypeError\u001b[0m                                 Traceback (most recent call last)",
      "Cell \u001b[1;32mIn[7], line 1\u001b[0m\n\u001b[1;32m----> 1\u001b[0m \u001b[43msolver\u001b[49m\u001b[38;5;241;43m.\u001b[39;49m\u001b[43mprintIsing\u001b[49m\u001b[43m(\u001b[49m\u001b[43m)\u001b[49m\n",
      "\u001b[1;31mTypeError\u001b[0m: Solver.printIsing() missing 2 required positional arguments: '_H' and '_J'"
     ]
    }
   ],
   "source": [
    "solver.printIsing(H, J)"
   ]
  }
 ],
 "metadata": {
  "kernelspec": {
   "display_name": "dwave-venv",
   "language": "python",
   "name": "python3"
  },
  "language_info": {
   "codemirror_mode": {
    "name": "ipython",
    "version": 3
   },
   "file_extension": ".py",
   "mimetype": "text/x-python",
   "name": "python",
   "nbconvert_exporter": "python",
   "pygments_lexer": "ipython3",
   "version": "3.10.11"
  }
 },
 "nbformat": 4,
 "nbformat_minor": 2
}
